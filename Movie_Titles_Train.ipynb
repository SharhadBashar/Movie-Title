{
 "cells": [
  {
   "cell_type": "code",
   "execution_count": 3,
   "id": "d49d86f4",
   "metadata": {},
   "outputs": [],
   "source": [
    "import pandas as pd\n",
    "# from googletrans import Translator\n",
    "from cleantext import clean\n",
    "\n",
    "import nltk\n",
    "from nltk.corpus import stopwords\n",
    "# nltk.download(\"stopwords\")\n",
    "\n",
    "from nltk.stem.porter import PorterStemmer\n",
    "from nltk.stem import WordNetLemmatizer\n",
    "\n",
    "from sklearn import metrics\n",
    "from sklearn.utils import shuffle\n",
    "from sklearn.model_selection import train_test_split\n",
    "from sklearn.pipeline import Pipeline\n",
    "\n",
    "from sklearn.feature_extraction.text import CountVectorizer, TfidfVectorizer, FeatureHasher, TfidfTransformer\n",
    "from sklearn.preprocessing import OneHotEncoder\n",
    "\n",
    "from sklearn.linear_model import LogisticRegression, SGDClassifier\n",
    "from sklearn.svm import LinearSVC\n",
    "from sklearn.neighbors import KNeighborsClassifier\n",
    "from sklearn.tree import DecisionTreeClassifier\n",
    "from sklearn.neural_network import MLPClassifier\n",
    "from sklearn.naive_bayes import MultinomialNB\n",
    "from sklearn.ensemble import RandomForestClassifier\n",
    "\n",
    "import warnings\n",
    "warnings.filterwarnings('ignore')"
   ]
  },
  {
   "cell_type": "code",
   "execution_count": 4,
   "id": "43eeb9df",
   "metadata": {},
   "outputs": [],
   "source": [
    "def convert_to_csv(filename = 'VMR Python Data TEST Sep\\'22.xlsx'):\n",
    "    df = pd.DataFrame(pd.read_excel(filename))\n",
    "    df.to_csv('movies.csv', index = None, header = ['name', 'class'])\n",
    "\n",
    "def read_csv(filename = 'movies.csv'):\n",
    "    return pd.read_csv(filename)"
   ]
  },
  {
   "cell_type": "code",
   "execution_count": 7,
   "id": "d27e3bff",
   "metadata": {},
   "outputs": [],
   "source": [
    "def clean_data(df, translate = False, stem = False, lemm = True):\n",
    "#     translator = Translator()\n",
    "    stop = stopwords.words('english')\n",
    "    stemmer = PorterStemmer()\n",
    "    lemmatizer = WordNetLemmatizer()\n",
    "    \n",
    "    df['name'] = df['name'].str.replace('[^A-Za-z0-9 ]+', ' ')\n",
    "    if translate: \n",
    "        df['name'] = df['name'].apply(lambda x: translator.translate(x, dest = 'en'))\n",
    "    df['name'] = df['name'].apply(lambda x: clean(x))\n",
    "    df['name'] = df['name'].apply(lambda x: ' '.join([word for word in x.split() if word not in (stop)]))\n",
    "    if stem:\n",
    "        df['name'] = df['name'].apply(lambda x: ' '.join([stemmer.stem(word) for word in x.split()]))\n",
    "    if lemm:\n",
    "        df['name'] = df['name'].apply(lambda x: ' '.join([lemmatizer.lemmatize(word) for word in x.split()]))\n",
    "    \n",
    "    df['class'] = df['class'].map({'Entertainment': 0, 'News': 1, 'Sports': 2})\n",
    "    df = df.dropna()\n",
    "    return df\n",
    "\n",
    "def save_df(df, filename = 'movies_cleaned.csv'):\n",
    "    df.to_csv(filename, index = None)\n",
    "    \n",
    "def get_data(filename = 'movies_cleaned.csv'):\n",
    "    df = shuffle(pd.read_csv(filename).dropna())\n",
    "    X = df['name']\n",
    "    y = df['class']\n",
    "    return X, y"
   ]
  },
  {
   "cell_type": "code",
   "execution_count": 8,
   "id": "85f8b166",
   "metadata": {},
   "outputs": [],
   "source": [
    "# convert_to_csv()\n",
    "df = read_csv()\n",
    "df = clean_data(df)\n",
    "save_df(df)"
   ]
  },
  {
   "cell_type": "code",
   "execution_count": null,
   "id": "8d87bdb8",
   "metadata": {},
   "outputs": [],
   "source": []
  },
  {
   "cell_type": "code",
   "execution_count": 9,
   "id": "90cc52e7",
   "metadata": {},
   "outputs": [],
   "source": [
    "def bag_of_words(X):\n",
    "    vectorizer = CountVectorizer(stop_words = 'english')\n",
    "    X = vectorizer.fit_transform(X)\n",
    "    return X\n",
    "\n",
    "def one_hot_encoding(X):\n",
    "    one_hot_encoder = OneHotEncoder()\n",
    "    X = X.values.reshape(-1, 1)\n",
    "    X = one_hot_encoder.fit_transform(X)\n",
    "    return X\n",
    "\n",
    "def word_2_vector(X):\n",
    "    w2v_model = gensim.models.Word2Vec(X, vector_size = 100, window = 5, min_count = 2)\n",
    "\n",
    "def glove(X):\n",
    "    return X\n",
    "\n",
    "def tfidf(X):\n",
    "    tfidf_vectorizer = TfidfVectorizer(max_df = 0.8, max_features = 10000)\n",
    "    X = tfidf_vectorizer.fit_transform(X)\n",
    "    return X"
   ]
  },
  {
   "cell_type": "code",
   "execution_count": 10,
   "id": "558ae98c",
   "metadata": {},
   "outputs": [],
   "source": [
    "def logistic_regression(X, y):\n",
    "    X_train, X_test, y_train, y_test = train_test_split(X, y)\n",
    "    lr = LogisticRegression(C = 100.0, random_state = 1, solver = 'lbfgs', multi_class = 'ovr')\n",
    "    lr.fit(X_train, y_train)\n",
    "    y_predict = lr.predict(X_test)\n",
    "    print(y_predict)\n",
    "    print(\"Logistic Regression Accuracy %.3f\" %metrics.accuracy_score(y_test, y_predict))\n",
    "    \n",
    "def sgd_classifier(X, y):\n",
    "    X_train, X_test, y_train, y_test = train_test_split(X, y)\n",
    "    sgd = SGDClassifier(loss = 'hinge', penalty = 'l2', alpha = 1e-3, random_state = 42, max_iter = 20, tol = None)\n",
    "    sgd.fit(X_train, y_train)\n",
    "    y_predict = sgd.predict(X_test)\n",
    "    print(\"SGD Classifier Accuracy %.3f\" %metrics.accuracy_score(y_test, y_predict))\n",
    "    \n",
    "def linear_svc(X, y):\n",
    "    X_train, X_test, y_train, y_test = train_test_split(X, y)\n",
    "    lsvc = LinearSVC()\n",
    "    lsvc.fit(X_train, y_train)\n",
    "    y_predict = lsvc.predict(X_test)\n",
    "    print(\"Linear SVC Accuracy %.3f\" %metrics.accuracy_score(y_test, y_predict))\n",
    "    \n",
    "def knn(X, y):\n",
    "    X_train, X_test, y_train, y_test = train_test_split(X, y)\n",
    "    knn = KNeighborsClassifier(n_neighbors = 3)\n",
    "    knn.fit(X_train, y_train)\n",
    "    y_predict = knn.predict(X_test)\n",
    "    print(\"K Neighbors Classifier Accuracy %.3f\" %metrics.accuracy_score(y_test, y_predict))\n",
    "    \n",
    "def tree(X, y):\n",
    "    X_train, X_test, y_train, y_test = train_test_split(X, y)\n",
    "    tree = DecisionTreeClassifier()\n",
    "    tree.fit(X_train, y_train)\n",
    "    y_predict = tree.predict(X_test)\n",
    "    print(\"Decision Tree Classifier Accuracy %.3f\" %metrics.accuracy_score(y_test, y_predict))\n",
    "    \n",
    "def nn(X, y):\n",
    "    X_train, X_test, y_train, y_test = train_test_split(X, y)\n",
    "    nn = MLPClassifier(n_neighbors = 3)\n",
    "    nn.fit(X_train, y_train)\n",
    "    y_predict = nn.predict(X_test)\n",
    "    print(\"MLP Classifier Accuracy %.3f\" %metrics.accuracy_score(y_test, y_predict))\n",
    "    \n",
    "def naive_bayes(X, y):\n",
    "    X_train, X_test, y_train, y_test = train_test_split(X, y)\n",
    "    nb = MultinomialNB()\n",
    "    nb.fit(X_train, y_train)\n",
    "    y_predict = nb.predict(X_test)\n",
    "    print(\"Naive Bayes Classifier Accuracy %.3f\" %metrics.accuracy_score(y_test, y_predict))\n",
    "    \n",
    "def random_forest(X, y):\n",
    "    X_train, X_test, y_train, y_test = train_test_split(X, y)\n",
    "    random_forest = RandomForestClassifier()\n",
    "    random_forest.fit(X_train, y_train)\n",
    "    y_predict = random_forest.predict(X_test)\n",
    "    print(\"Random Forest Classifier Accuracy %.3f\" %metrics.accuracy_score(y_test, y_predict))\n",
    "    \n",
    "    "
   ]
  },
  {
   "cell_type": "code",
   "execution_count": 16,
   "id": "94e3fdb3",
   "metadata": {},
   "outputs": [
    {
     "name": "stdout",
     "output_type": "stream",
     "text": [
      "[0 0 0 ... 0 0 2]\n",
      "Logistic Regression Accuracy 0.982\n"
     ]
    }
   ],
   "source": [
    "X, y = get_data()\n",
    "\n",
    "# X = bag_of_words(X)\n",
    "X = tfidf(X)\n",
    "logistic_regression(X, y)"
   ]
  },
  {
   "cell_type": "code",
   "execution_count": 20,
   "id": "d473f5b0",
   "metadata": {},
   "outputs": [
    {
     "name": "stdout",
     "output_type": "stream",
     "text": [
      "Classifier Accuracy 0.992\n"
     ]
    }
   ],
   "source": [
    "X, y = get_data()\n",
    "X_train, X_test, y_train, y_test = train_test_split(X, y)\n",
    "movie_clf = Pipeline([\n",
    "     ('vect', CountVectorizer(stop_words = 'english')),\n",
    "     ('tfidf', TfidfTransformer()),\n",
    "     ('clf', LogisticRegression(C = 100.0, random_state = 1, solver = 'lbfgs', multi_class = 'ovr'))\n",
    "])\n",
    "\n",
    "movie_clf.fit(X, y)\n",
    "y_predict = movie_clf.predict(X_test)\n",
    "print(\"Classifier Accuracy %.3f\" %metrics.accuracy_score(y_test, y_predict))"
   ]
  },
  {
   "cell_type": "code",
   "execution_count": null,
   "id": "68c749fa",
   "metadata": {},
   "outputs": [],
   "source": []
  }
 ],
 "metadata": {
  "kernelspec": {
   "display_name": "Python 3 (ipykernel)",
   "language": "python",
   "name": "python3"
  },
  "language_info": {
   "codemirror_mode": {
    "name": "ipython",
    "version": 3
   },
   "file_extension": ".py",
   "mimetype": "text/x-python",
   "name": "python",
   "nbconvert_exporter": "python",
   "pygments_lexer": "ipython3",
   "version": "3.9.12"
  }
 },
 "nbformat": 4,
 "nbformat_minor": 5
}
